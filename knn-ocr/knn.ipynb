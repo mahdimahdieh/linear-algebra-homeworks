{
 "cells": [
  {
   "cell_type": "code",
   "id": "initial_id",
   "metadata": {
    "collapsed": true,
    "jupyter": {
     "is_executing": true
    }
   },
   "source": [
    "import scipy.io\n",
    "import numpy as np\n",
    "\n",
    "# Load the .mat file to inspect its contents\n",
    "file_path = 'Data_hoda_full.mat'\n",
    "mat_contents = scipy.io.loadmat(file_path)\n",
    "\n",
    "# Extract keys from the loaded dictionary to understand its structure\n",
    "mat_contents.keys()\n"
   ],
   "outputs": [],
   "execution_count": null
  },
  {
   "metadata": {},
   "cell_type": "code",
   "outputs": [],
   "execution_count": null,
   "source": "",
   "id": "6f67ced046c53908"
  }
 ],
 "metadata": {
  "kernelspec": {
   "display_name": "Python 3",
   "language": "python",
   "name": "python3"
  },
  "language_info": {
   "codemirror_mode": {
    "name": "ipython",
    "version": 2
   },
   "file_extension": ".py",
   "mimetype": "text/x-python",
   "name": "python",
   "nbconvert_exporter": "python",
   "pygments_lexer": "ipython2",
   "version": "2.7.6"
  }
 },
 "nbformat": 4,
 "nbformat_minor": 5
}
